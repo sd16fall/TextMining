{
 "cells": [
  {
   "cell_type": "code",
   "execution_count": 1,
   "metadata": {
    "collapsed": false,
    "scrolled": false
   },
   "outputs": [
    {
     "name": "stdout",
     "output_type": "stream",
     "text": [
      "RT @b_djaan93: Si Pogba avait fait le même match que griezmann il se serait fait mitraillé par les médias à cet heure ci\n",
      "\n",
      "RT @RedRelated: Paul Pogba scores for France. #MUFC https://t.co/Zbvhoip7R9\n",
      "\n",
      "RT @Bolanet: [Review] https://t.co/KARFPhbHZT - Roket Pogba Permalukan Belanda https://t.co/By3cOnEcGp\n",
      "\n",
      "RT @PassionFootClub: Quand Mathias, Florentin et Paul Pogba s'amusent 💃 https://t.co/KIyysgnm8N\n",
      "\n",
      "RT @MUFCScoop: Paul Pogba's goal vs Netherlands #MUFC https://t.co/vlGOJ0YcCc\n",
      "\n",
      "RT @WengerTactic: Paul Pogba🔥 https://t.co/ZEFocRnBYk\n",
      "\n",
      "Berita Bola: Paul Pogba Tak Pernah Terpengaruh Kritik \n",
      "Pemain tengah Prancis, Paul ... https://t.co/cXi1EmwEQP https://t.co/Z19PVGTBRQ\n",
      "\n",
      "Via @gofootyourself Pogba et ses potes en transe sur le parking https://t.co/mQNGKnP55b #GFYmtl\n",
      "\n",
      "RT @freebetscouk: Pogba celebrating his cracker for France 😂 #hatersgonnahate https://t.co/q5YkcuebQr\n",
      "\n",
      "Man Utd star Paul Pogba: This is how I deal with criticism #epl @Daily_Express: PAUL POGBA has lifted the lid on… https://t.co/j6Fv7PvS8m\n",
      "\n",
      "RT @MUFC_Malaysia: Paul Pogba's goal for France vs Netherlands https://t.co/F6kQusRkxX https://t.co/1cygbrMKiT\n",
      "\n",
      "Pogba nã đại bác, Pháp đánh bại Hà Lan ngay trên sân khách https://t.co/Lx99NbP5fQ\n",
      "\n",
      "RT @Devils_Latest: Pogba tells Kevin Strootman to \"shut the f*ck up\" #MUFC\n",
      "https://t.co/74zSBlUYVQ\n",
      "\n",
      "RT @Footy_Wankers: Pogba tells Kevin Strootman to \"shut the f*ck up\" 😂 https://t.co/DTyUfzMS9j\n",
      "\n",
      "RT @ManUtdReport_: Paul Pogba's goal against the Netherlands. #MUFC\n",
      "\n",
      " https://t.co/rVz5EXeezO\n",
      "\n",
      "RT @lnstantFoot: En réalité Paul Pogba a réservé sa célébration pour fêter son but en coulisses 😏  https://t.co/IjC9RyTw7w\n",
      "\n",
      "RT @sir__27: 本日のPaul Pogba https://t.co/WmKRNZvypg\n",
      "\n",
      "RT @ManUtdStuff: 📹 | Paul Pogba's long-range goal against Netherlands. https://t.co/MIRcnA2Nuf\n",
      "\n",
      "RT @Flootoutcourt: Pogba face aux journalistes après son but.. #PBSFRA https://t.co/99ujbEas4z\n",
      "\n",
      "RT @OL695: On me dit dans l'oreillette que La célébration de Pogba c'est  la réponse à tous vos tweets  \" Pogba surcoté\" #PBSFRA\n",
      "\n",
      "Pogba Cetak Gol, Griezmann: \"Dia Akan Jadi Headline\" https://t.co/ELl4sA6weH\n",
      "\n",
      "Il est CANON ce POGBA: De l'un de nos envoyés spéciauxIl a volé comme un papillon pour, e... https://t.co/YLGuvSaHhX #Sport le_Parisien\n",
      "\n",
      "RT @lnstantFoot: En réalité Paul Pogba a réservé sa célébration pour fêter son but en coulisses 😏  https://t.co/IjC9RyTw7w\n",
      "\n",
      "RT @MufcDevilUpdate: Pogba's winning goal tonight. #MUFC https://t.co/RlQVPUVgVn\n",
      "\n",
      "Les Bleus aux anges, les Orange amers: Par          FOOTBALL. Grâce à un missile de Pogba... https://t.co/xoeotJZRnx #Sport le_Parisien\n",
      "\n",
      "RT @ManUtd_ID: Paul Pogba mencetak gol kemenangan untuk Prancis saat menghadapi Belanda yang diperkuat rekan di #MUFC @BlindDaley dan @Memp…\n",
      "\n",
      "Pogba Cetak Gol, Griezmann: \"Dia Akan Jadi Headline\" https://t.co/UKmed2wcYx\n",
      "\n",
      "@imSweezel @404island orra tu n quer mais nada não né. tu n quer um pogba messi e cr7 num pack de 7K\n",
      "\n",
      "RT @Bolanet: #LiveBolanet FT: Belanda 0-1 Prancis (30' Pogba) | Poss: 50%-50% | Shots: 9-14 | Total operan: 433-450 https://t.co/FgnoqfscPt\n",
      "\n",
      "RT @EPLFootbalI: Pogba tells Kevin Strootman to \"shut the f*ck up\" 😂 https://t.co/bBkdGrnEjs\n",
      "\n"
     ]
    }
   ],
   "source": [
    "from pattern.web import Twitter\n",
    "\n",
    "t = Twitter()\n",
    "i = None\n",
    "for tweet in t.search('Pogba', start=i, count=30):\n",
    "    print tweet.text\n",
    "    print\n",
    "    i = tweet.id\n",
    "\n",
    "allTweets=[]\n",
    "for tweet in t.search('Pogba', start=i, count=30):\n",
    "    allTweets.append(tweet.text)\n",
    "\n",
    "    \n",
    "import pickle\n",
    "f=open('pogba_texts.pickle','w')\n",
    "pickle.dump(allTweets,f)\n",
    "f.close()"
   ]
  },
  {
   "cell_type": "code",
   "execution_count": 2,
   "metadata": {
    "collapsed": false
   },
   "outputs": [],
   "source": [
    "import pickle\n",
    "input_file=open('pogba_texts.pickle','r')\n",
    "reloaded_copy_of_texts=pickle.load(input_file)"
   ]
  },
  {
   "cell_type": "code",
   "execution_count": 3,
   "metadata": {
    "collapsed": false,
    "scrolled": true
   },
   "outputs": [
    {
     "name": "stdout",
     "output_type": "stream",
     "text": [
      "(0.14285714285714285, 0.26785714285714285)\n",
      "(0.0, 0.0)\n",
      "(0.0, 0.0)\n",
      "(-0.4, 0.4)\n",
      "(0.5, 0.75)\n",
      "(0.2, 0.9)\n",
      "(0.0, 0.0)\n",
      "(0.0, 0.0)\n",
      "(0.0, 0.0)\n",
      "(0.5, 0.6)\n",
      "(0.30000000000000004, 0.4)\n",
      "(0.35, 0.65)\n",
      "(0.0, 0.0)\n",
      "(0.0, 0.0)\n",
      "(0.0, 0.0)\n",
      "(-0.4, 0.4)\n",
      "(0.0, 0.0)\n",
      "(0.0, 0.0)\n",
      "(0.0, 0.0)\n",
      "(0.0, 0.0)\n",
      "(0.0, 0.0)\n",
      "(-0.4, 0.4)\n",
      "(0.0, 0.0)\n",
      "(-0.5, 0.6666666666666666)\n",
      "(0.0, 0.0)\n",
      "(0.0, 0.0)\n",
      "(0.0, 0.0)\n",
      "(0.033333333333333326, 0.5555555555555555)\n",
      "(0.0, 0.0)\n",
      "(0.0, 0.0)\n",
      "(0.0, 0.0)\n"
     ]
    }
   ],
   "source": [
    "from pattern.en import *\n",
    "print sentiment ('What is this? REF is right there and not even a yellow. The bias towards United/Pogba is unreal')\n",
    "for tweet in reloaded_copy_of_texts:\n",
    "    print sentiment(tweet)\n",
    "sentimentList=[]\n",
    "for tweet in reloaded_copy_of_texts:\n",
    "    sentimentList.append(sentiment(tweet))"
   ]
  },
  {
   "cell_type": "code",
   "execution_count": 4,
   "metadata": {
    "collapsed": false
   },
   "outputs": [
    {
     "name": "stdout",
     "output_type": "stream",
     "text": [
      "0.00611111111111\n"
     ]
    }
   ],
   "source": [
    "sumPolarity=0\n",
    "for s in sentimentList:\n",
    "    polarity=s[0]\n",
    "    sumPolarity=sumPolarity+polarity\n",
    "sumPolarity/len(sentimentList)\n",
    "Average=sumPolarity/len(sentimentList)\n",
    "\n",
    "print Average"
   ]
  },
  {
   "cell_type": "code",
   "execution_count": null,
   "metadata": {
    "collapsed": false
   },
   "outputs": [],
   "source": []
  },
  {
   "cell_type": "code",
   "execution_count": null,
   "metadata": {
    "collapsed": true
   },
   "outputs": [],
   "source": []
  },
  {
   "cell_type": "code",
   "execution_count": null,
   "metadata": {
    "collapsed": true
   },
   "outputs": [],
   "source": []
  },
  {
   "cell_type": "code",
   "execution_count": null,
   "metadata": {
    "collapsed": true
   },
   "outputs": [],
   "source": []
  },
  {
   "cell_type": "code",
   "execution_count": null,
   "metadata": {
    "collapsed": true
   },
   "outputs": [],
   "source": []
  }
 ],
 "metadata": {
  "kernelspec": {
   "display_name": "Python 2",
   "language": "python",
   "name": "python2"
  },
  "language_info": {
   "codemirror_mode": {
    "name": "ipython",
    "version": 2
   },
   "file_extension": ".py",
   "mimetype": "text/x-python",
   "name": "python",
   "nbconvert_exporter": "python",
   "pygments_lexer": "ipython2",
   "version": "2.7.6"
  }
 },
 "nbformat": 4,
 "nbformat_minor": 1
}
