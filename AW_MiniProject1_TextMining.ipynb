{
 "cells": [
  {
   "cell_type": "code",
   "execution_count": 7,
   "metadata": {
    "collapsed": false
   },
   "outputs": [
    {
     "name": "stdout",
     "output_type": "stream",
     "text": [
      "The last 100 tweets about Donald Trump has an average polarity of 0.0383908730159\n",
      "The last 100 tweets about Hilary Clinton has an average polarity of -0.00256539101331\n",
      "\n",
      "The last 100 tweets about each of the presidential candidates show that Donald Trump is the more favorable presidential candidate\n"
     ]
    }
   ],
   "source": [
    "from pattern.web import Twitter\n",
    "from pattern.en import sentiment\n",
    "\n",
    "import matplotlib.pyplot as plt\n",
    "\n",
    "t = Twitter() #twitter object created\n",
    "i = None\n",
    "\n",
    "def draw_histogram(polarity_list, name):\n",
    "    # the histogram of the data\n",
    "    plt.figure() #opens a new window\n",
    "    n, bins, patches = plt.hist(polarity_list, 50, normed=1, facecolor='green', alpha=0.75)\n",
    "    plt.xlabel('Polarity')\n",
    "    plt.ylabel('Frequency')\n",
    "    plt.title('Histogram of '+name)\n",
    "    plt.axis([-1,1,0,40])\n",
    "    plt.grid(True)\n",
    "    \n",
    "\n",
    "def get_polarity_list(phrase):\n",
    "    polarity_list = []\n",
    "    polarity = 0\n",
    "    count = 0\n",
    "    for i in range(10):\n",
    "        for tweet in t.search(phrase, start=i, count=10): #search method inside Twitter object; t.searh = list\n",
    "        #print tweet.text\n",
    "            sentiment_tuple = sentiment(tweet.text)\n",
    "            polarity += sentiment_tuple[0]\n",
    "            count += 1\n",
    "            polarity_list.append(sentiment_tuple[0])\n",
    "            i = tweet.id\n",
    "    return polarity_list\n",
    "\n",
    "dt_pol_list = get_polarity_list('donald trump')\n",
    "hc_pol_list = get_polarity_list('hilary clinton')\n",
    "\n",
    "def find_avg_polarity(new_list):\n",
    "    length = len(new_list)\n",
    "    sum = 0\n",
    "    for i in new_list:\n",
    "        sum += i\n",
    "    return sum/length\n",
    "    \n",
    "print \"The last 100 tweets about Donald Trump has an average polarity of\", find_avg_polarity(dt_pol_list)\n",
    "print \"The last 100 tweets about Hilary Clinton has an average polarity of\", find_avg_polarity(hc_pol_list)\n",
    "print\n",
    "\n",
    "if(find_avg_polarity(dt_pol_list) > find_avg_polarity(hc_pol_list)):\n",
    "    print \"The last 100 tweets about each of the presidential candidates show that Donald Trump is the more favorable presidential candidate\"\n",
    "else:\n",
    "    print \"The last 100 tweets about each of the presidential candidates show that Hilary Clinton is the more favorable presidential candidate\"\n",
    "        \n",
    "draw_histogram(dt_pol_list, 'Donald Trump') \n",
    "draw_histogram(hc_pol_list, 'Hilary Clinton')\n",
    "\n",
    "plt.show()"
   ]
  },
  {
   "cell_type": "code",
   "execution_count": null,
   "metadata": {
    "collapsed": true
   },
   "outputs": [],
   "source": []
  }
 ],
 "metadata": {
  "kernelspec": {
   "display_name": "Python 2",
   "language": "python",
   "name": "python2"
  },
  "language_info": {
   "codemirror_mode": {
    "name": "ipython",
    "version": 2
   },
   "file_extension": ".py",
   "mimetype": "text/x-python",
   "name": "python",
   "nbconvert_exporter": "python",
   "pygments_lexer": "ipython2",
   "version": "2.7.6"
  }
 },
 "nbformat": 4,
 "nbformat_minor": 1
}
