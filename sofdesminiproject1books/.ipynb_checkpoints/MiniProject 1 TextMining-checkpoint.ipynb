{
 "cells": [
  {
   "cell_type": "code",
   "execution_count": null,
   "metadata": {
    "collapsed": true
   },
   "outputs": [],
   "source": [
    "import string\n",
    "\n",
    "f1 = open('theislandofdoctormoreau.txt','r')\n",
    "lines1 = f1.readlines()\n",
    "curr_line1 = 0\n",
    "while lines1[curr_line1].find('START OF THIS PROJECT GUTENBERG EBOOK') == -1:\n",
    "        curr_line1 += 1\n",
    "lines1 = lines1[curr_line1+1:]\n",
    "\n",
    "f2 = open('thetimemachine.txt','r')\n",
    "lines2 = f2.readlines()\n",
    "curr_line2 = 0\n",
    "while lines2[curr_line2].find('START OF THIS PROJECT GUTENBERG EBOOK') == -1:\n",
    "        curr_line2 += 1\n",
    "lines2 = lines2[curr_line2+1:]\n",
    "\n",
    "f3 = open('thewaroftheworlds.txt','r')\n",
    "lines3 = f3.readlines()\n",
    "curr_line3 = 0\n",
    "while lines3[curr_line3].find('START OF THIS PROJECT GUTENBERG EBOOK') == -1:\n",
    "        curr_line3 += 1\n",
    "lines3 = lines3[curr_line3+1:]\n",
    "\n",
    "f4 = open('ajourneytothecentreoftheearth.txt','r')\n",
    "lines4 = f4.readlines()\n",
    "curr_line4= 0\n",
    "while lines4[curr_line].find('START OF THIS PROJECT GUTENBERG EBOOK') == -1:\n",
    "        curr_line4 += 1\n",
    "lines4 = lines4[curr_line4+1:]\n",
    "\n",
    "f5 = open('twentythousandleaguesunderthesea.txt','r')\n",
    "lines5 = f5.readlines()\n",
    "curr_line5 = 0\n",
    "while lines5[curr_line5].find('START OF THIS PROJECT GUTENBERG EBOOK') == -1:\n",
    "        curr_line5 += 1\n",
    "lines5 = lines5[curr_line5+1:]\n",
    "\n",
    "f6 = open('aroundtheworldin80days.txt','r')\n",
    "lines6 = f6.readlines()\n",
    "curr_line6 = 0\n",
    "while lines6[curr_line6].find('START OF THIS PROJECT GUTENBERG EBOOK') == -1:\n",
    "        curr_line6 += 1\n",
    "lines6 = lines6[curr_line6+1:]"
   ]
  },
  {
   "cell_type": "code",
   "execution_count": 16,
   "metadata": {
    "collapsed": false
   },
   "outputs": [],
   "source": [
    "import string\n",
    "def get_word_list():\n",
    "    f1 = open('theislandofdoctormoreau.txt','r')\n",
    "    lines1 = f1.readlines()\n",
    "    curr_line1 = 0\n",
    "    while lines1[curr_line1].find('START OF THIS PROJECT GUTENBERG EBOOK') == -1:\n",
    "            curr_line1 += 1\n",
    "    lines1 = lines1[curr_line1+1:]\n",
    "\n",
    "    for line in lines1:\n",
    "        line.replace('-', ' ')\n",
    "        for word in line.split():\n",
    "    # remove punctuation,convert to lowercase, and sort into order\n",
    "            word = word.strip(string.punctuation + string.whitespace)\n",
    "            word = word.lower()\n",
    "            word = sorted(word)\n",
    "    print lines1"
   ]
  },
  {
   "cell_type": "code",
   "execution_count": null,
   "metadata": {
    "collapsed": true
   },
   "outputs": [],
   "source": []
  }
 ],
 "metadata": {
  "kernelspec": {
   "display_name": "Python 2",
   "language": "python",
   "name": "python2"
  },
  "language_info": {
   "codemirror_mode": {
    "name": "ipython",
    "version": 2
   },
   "file_extension": ".py",
   "mimetype": "text/x-python",
   "name": "python",
   "nbconvert_exporter": "python",
   "pygments_lexer": "ipython2",
   "version": "2.7.6"
  }
 },
 "nbformat": 4,
 "nbformat_minor": 1
}
