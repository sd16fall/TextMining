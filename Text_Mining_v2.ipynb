{
 "cells": [
  {
   "cell_type": "markdown",
   "metadata": {},
   "source": [
    "# Software Design Mini Project #1: Text Mining by Prabha Dublish"
   ]
  },
  {
   "cell_type": "markdown",
   "metadata": {},
   "source": [
    "For this project, I will be analyzing tweets wit the #guncontrol and #gunsense. See my additional write up (found on git hub) for additional information. Note that after fixing the pickling issue some of the data changed so the ouput may not exactly match the report. "
   ]
  },
  {
   "cell_type": "code",
   "execution_count": 1,
   "metadata": {
    "collapsed": false
   },
   "outputs": [],
   "source": [
    "##Getting tweets with the word guncontrol--DO NOT RUN##\n",
    "\n",
    "from pattern.web import Twitter\n",
    "\n",
    "guncontrol = Twitter()\n",
    "i = None\n",
    "guncontroltweets=[]\n",
    "for j in range(3):\n",
    "    for tweet in guncontrol.search('\\#guncontrol', start=i, count=100):\n",
    "        guncontroltweets.append(tweet.text)\n",
    "        i = tweet.id\n",
    "        \n",
    "import pickle\n",
    "\n",
    "f = open('tweetguncontrol.pickle','w')\n",
    "pickle.dump(guncontroltweets,f)\n",
    "f.close()"
   ]
  },
  {
   "cell_type": "code",
   "execution_count": 1,
   "metadata": {
    "collapsed": false
   },
   "outputs": [],
   "source": [
    "##Run to load #guncontrol tweets\n",
    "import pickle \n",
    "\n",
    "input_file = open('tweetguncontrol.pickle','r')\n",
    "reloaded_guncontrol_tweets = pickle.load(input_file)"
   ]
  },
  {
   "cell_type": "code",
   "execution_count": 3,
   "metadata": {
    "collapsed": false
   },
   "outputs": [],
   "source": [
    "##Getting tweets with the #gunsense--DO NOT RUN##\n",
    "\n",
    "from pattern.web import Twitter\n",
    "\n",
    "t = Twitter()\n",
    "i = None\n",
    "gunsensetweets=[]\n",
    "for j in range(3):\n",
    "    for tweet in t.search('\\#gunsense', start=i, count=100):\n",
    "        gunsensetweets.append(tweet.text)\n",
    "        i = tweet.id\n",
    "        \n",
    "import pickle\n",
    "\n",
    "f = open('tweetgunsense.pickle','w')\n",
    "pickle.dump(gunsensetweets,f)\n",
    "f.close()"
   ]
  },
  {
   "cell_type": "code",
   "execution_count": 2,
   "metadata": {
    "collapsed": true
   },
   "outputs": [],
   "source": [
    "#Run to load #gunsense tweets\n",
    "import pickle \n",
    "\n",
    "input_file = open('tweetgunsense.pickle','r')\n",
    "reloaded_gunsense_tweets = pickle.load(input_file)"
   ]
  },
  {
   "cell_type": "code",
   "execution_count": 3,
   "metadata": {
    "collapsed": true
   },
   "outputs": [],
   "source": [
    "##Function for using indico to determine political breakdown\n",
    "\n",
    "def political_party_breakdown(tweets):\n",
    "    for i in tweets:\n",
    "        dictionary=indicoio.political(i)\n",
    "        libertarian.append(dictionary[u'Libertarian'])\n",
    "        liberal.append(dictionary[u'Liberal'])\n",
    "        green.append(dictionary[u'Green'])\n",
    "        conservative.append(dictionary[u'Conservative'])"
   ]
  },
  {
   "cell_type": "code",
   "execution_count": 4,
   "metadata": {
    "collapsed": false
   },
   "outputs": [
    {
     "name": "stdout",
     "output_type": "stream",
     "text": [
      "0.289742751457\n",
      "0.194543452743\n",
      "0.227436746336\n",
      "0.288277058412\n"
     ]
    }
   ],
   "source": [
    "##Determining political party breakdown for tweets with #guncontrol\n",
    "import indicoio\n",
    "\n",
    "##Loading the API Key from a file for security \n",
    "f=open('API','r')\n",
    "key=f.read()\n",
    "apikey=key.strip()\n",
    "\n",
    "indicoio.config.api_key = apikey\n",
    "\n",
    "libertarian=[]\n",
    "liberal=[]\n",
    "green=[]\n",
    "conservative=[]\n",
    "\n",
    "political_party_breakdown(reloaded_guncontrol_tweets)\n",
    "        \n",
    "import numpy as np\n",
    "print np.mean(libertarian)\n",
    "print np.mean(liberal)\n",
    "print np.mean(green)\n",
    "print np.mean(conservative)\n",
    "\n",
    "##Note: these numbers changed after fixing a pickling issue so the report may not exactly match with the output. "
   ]
  },
  {
   "cell_type": "code",
   "execution_count": 5,
   "metadata": {
    "collapsed": false
   },
   "outputs": [
    {
     "name": "stdout",
     "output_type": "stream",
     "text": [
      "0.306880733593\n",
      "0.24932570369\n",
      "0.23787853837\n",
      "0.20591501649\n"
     ]
    }
   ],
   "source": [
    "##Determining political party breakdown for tweets with #gunsense\n",
    "import indicoio\n",
    "\n",
    "##Loading the API Key from a file for security\n",
    "f=open('API','r')\n",
    "key=f.read()\n",
    "apikey=key.strip()\n",
    "\n",
    "indicoio.config.api_key = apikey\n",
    "\n",
    "libertarian=[]\n",
    "liberal=[]\n",
    "green=[]\n",
    "conservative=[]\n",
    "\n",
    "political_party_breakdown(reloaded_gunsense_tweets)\n",
    "    \n",
    "import numpy as np\n",
    "print np.mean(libertarian)\n",
    "print np.mean(liberal)\n",
    "print np.mean(green)\n",
    "print np.mean(conservative)\n",
    "\n",
    "##Note: these numbers changed after fixing a pickling issue so the report may not exactly match with the output. "
   ]
  },
  {
   "cell_type": "code",
   "execution_count": 6,
   "metadata": {
    "collapsed": true
   },
   "outputs": [],
   "source": [
    "##Function for sentiment analysis\n",
    "def sentiment_analysis(tweets):\n",
    "    for i in tweets:\n",
    "        score=(sentiment(i))\n",
    "        sent.append(score[0])\n",
    "        obj.append(score[1])"
   ]
  },
  {
   "cell_type": "code",
   "execution_count": 7,
   "metadata": {
    "collapsed": false
   },
   "outputs": [
    {
     "data": {
      "image/png": "[encoded data removed]",
      "text/plain": [
       "<matplotlib.figure.Figure at 0x7fb31822cb50>"
      ]
     },
     "metadata": {},
     "output_type": "display_data"
    }
   ],
   "source": [
    "##Determining sentiment analysis for tweets with #guncontrol\n",
    "from pattern.en import *\n",
    "\n",
    "sent=[]\n",
    "obj=[]\n",
    "\n",
    "sentiment_analysis(reloaded_guncontrol_tweets)\n",
    "    \n",
    "import matplotlib.pyplot as plt\n",
    "plt.plot(obj,sent,'ro')\n",
    "plt.title('#Guncontrol Tweet Analysis')\n",
    "plt.xlabel('Objectivity')\n",
    "plt.ylabel('Sentiment')\n",
    "plt.axis([-0.1, 1.1, -1.1, 1.1])\n",
    "plt.show()"
   ]
  },
  {
   "cell_type": "code",
   "execution_count": 8,
   "metadata": {
    "collapsed": false
   },
   "outputs": [
    {
     "name": "stdout",
     "output_type": "stream",
     "text": [
      "('r-squared:', 0.02530875395422006)\n"
     ]
    }
   ],
   "source": [
    "## After attempting to fit a model to the data \n",
    "import numpy as np\n",
    "x=np.array(obj)\n",
    "y=np.array(sent)\n",
    "\n",
    "from scipy import stats \n",
    "slope, intercept, r_value, p_value, std_err = stats.linregress(x,y)\n",
    "print(\"r-squared:\", r_value**2)"
   ]
  },
  {
   "cell_type": "code",
   "execution_count": 9,
   "metadata": {
    "collapsed": false
   },
   "outputs": [
    {
     "name": "stdout",
     "output_type": "stream",
     "text": [
      "0.112278404854\n",
      "0.365321903116\n"
     ]
    }
   ],
   "source": [
    "#Further analysis of #guncontrol tweets\n",
    "import numpy as np\n",
    "print np.mean(sent)\n",
    "print np.mean(obj)"
   ]
  },
  {
   "cell_type": "code",
   "execution_count": 10,
   "metadata": {
    "collapsed": false,
    "scrolled": true
   },
   "outputs": [
    {
     "data": {
      "image/png": "[encoded data removed]",
      "text/plain": [
       "<matplotlib.figure.Figure at 0x7fb31835f990>"
      ]
     },
     "metadata": {},
     "output_type": "display_data"
    }
   ],
   "source": [
    "##Determining sentiment analysis for tweets with #gunsense\n",
    "from pattern.en import *\n",
    "\n",
    "sent=[]\n",
    "obj=[]\n",
    "\n",
    "sentiment_analysis(reloaded_gunsense_tweets)\n",
    "\n",
    "    \n",
    "import matplotlib.pyplot as plt\n",
    "plt.plot(obj,sent, 'ro')\n",
    "plt.title('#Gunsense Tweet Analysis')\n",
    "plt.xlabel('Objectivity')\n",
    "plt.ylabel('Sentiment')\n",
    "plt.axis([-0.1, 1.1, -1.1, 1.1])\n",
    "plt.show()"
   ]
  },
  {
   "cell_type": "code",
   "execution_count": 11,
   "metadata": {
    "collapsed": false
   },
   "outputs": [
    {
     "name": "stdout",
     "output_type": "stream",
     "text": [
      "('r-squared:', 0.072801035851466925)\n"
     ]
    }
   ],
   "source": [
    "##After attempting to fit a model to the data\n",
    "import numpy as np\n",
    "x=np.array(obj)\n",
    "y=np.array(sent)\n",
    "\n",
    "from scipy import stats \n",
    "slope, intercept, r_value, p_value, std_err = stats.linregress(x,y)\n",
    "print(\"r-squared:\", r_value**2)"
   ]
  },
  {
   "cell_type": "code",
   "execution_count": 12,
   "metadata": {
    "collapsed": false
   },
   "outputs": [
    {
     "name": "stdout",
     "output_type": "stream",
     "text": [
      "0.120967575788\n",
      "0.288480663472\n"
     ]
    }
   ],
   "source": [
    "#Further analysis for #Gunsense tweets\n",
    "import numpy as np\n",
    "print np.mean(sent)\n",
    "print np.mean(obj)"
   ]
  },
  {
   "cell_type": "code",
   "execution_count": null,
   "metadata": {
    "collapsed": true
   },
   "outputs": [],
   "source": [
    "#Run to view the raw data\n",
    "print reloaded_guncontrol_tweets\n",
    "print reloaded_gunsense_tweets"
   ]
  }
 ],
 "metadata": {
  "kernelspec": {
   "display_name": "Python 2",
   "language": "python",
   "name": "python2"
  },
  "language_info": {
   "codemirror_mode": {
    "name": "ipython",
    "version": 2
   },
   "file_extension": ".py",
   "mimetype": "text/x-python",
   "name": "python",
   "nbconvert_exporter": "python",
   "pygments_lexer": "ipython2",
   "version": "2.7.12"
  }
 },
 "nbformat": 4,
 "nbformat_minor": 1
}
