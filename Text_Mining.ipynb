{
 "cells": [
  {
   "cell_type": "markdown",
   "metadata": {},
   "source": [
    "# Software Design Mini Project #1: Text Mining by Prabha Dublish"
   ]
  },
  {
   "cell_type": "markdown",
   "metadata": {},
   "source": [
    "For this project, I will be analyzing tweets wit the #guncontrol and #gunsense. See my additional write up (found on git hub) for additional information."
   ]
  },
  {
   "cell_type": "code",
   "execution_count": 9,
   "metadata": {
    "collapsed": false
   },
   "outputs": [],
   "source": [
    "##Getting tweets with the word guncontrol\n",
    "\n",
    "from pattern.web import Twitter\n",
    "\n",
    "guncontrol = Twitter()\n",
    "i = None\n",
    "guncontroltweets=[]\n",
    "for j in range(3):\n",
    "    for tweet in guncontrol.search('\\#guncontrol', start=i, count=100):\n",
    "        guncontroltweets.append(tweet.text)\n",
    "        i = tweet.id\n",
    "        \n",
    "import pickle\n",
    "\n",
    "f = open('tweetguncontrol.pickle','w')\n",
    "pickle.dump(guncontroltweets,f)\n",
    "f.close()\n",
    "\n",
    "input_file = open('tweetguncontrol.pickle','r')\n",
    "reloaded_guncontrol_tweets = pickle.load(input_file)"
   ]
  },
  {
   "cell_type": "code",
   "execution_count": 2,
   "metadata": {
    "collapsed": false
   },
   "outputs": [],
   "source": [
    "##Getting tweets with the #gunsense\n",
    "\n",
    "from pattern.web import Twitter\n",
    "\n",
    "t = Twitter()\n",
    "i = None\n",
    "gunsensetweets=[]\n",
    "for j in range(3):\n",
    "    for tweet in t.search('\\#gunsense', start=i, count=100):\n",
    "        gunsensetweets.append(tweet.text)\n",
    "        i = tweet.id\n",
    "        \n",
    "import pickle\n",
    "\n",
    "f = open('tweetgunsense.pickle','w')\n",
    "pickle.dump(gunsensetweets,f)\n",
    "f.close()\n",
    "\n",
    "input_file = open('tweetgunsense.pickle','r')\n",
    "reloaded_gunsense_tweets = pickle.load(input_file)"
   ]
  },
  {
   "cell_type": "code",
   "execution_count": 4,
   "metadata": {
    "collapsed": false
   },
   "outputs": [
    {
     "name": "stdout",
     "output_type": "stream",
     "text": [
      "0.266041023624\n",
      "0.234102744337\n",
      "0.262452678866\n",
      "0.237403555712\n"
     ]
    }
   ],
   "source": [
    "##Determining political party breakdown for tweets with #guncontrol\n",
    "import indicoio\n",
    "\n",
    "indicoio.config.api_key = 'dff2e468122e118f7d78ea379d97bfe9'\n",
    "\n",
    "libertarian=[]\n",
    "liberal=[]\n",
    "green=[]\n",
    "conservative=[]\n",
    "\n",
    "for i in reloaded_guncontrol_tweets:\n",
    "    dictionary=indicoio.political(i)\n",
    "    libertarian.append(dictionary[u'Libertarian'])\n",
    "    liberal.append(dictionary[u'Liberal'])\n",
    "    green.append(dictionary[u'Green'])\n",
    "    conservative.append(dictionary[u'Conservative'])\n",
    "    \n",
    "import numpy as np\n",
    "print np.mean(libertarian)\n",
    "print np.mean(liberal)\n",
    "print np.mean(green)\n",
    "print np.mean(conservative)"
   ]
  },
  {
   "cell_type": "code",
   "execution_count": 3,
   "metadata": {
    "collapsed": false
   },
   "outputs": [
    {
     "name": "stdout",
     "output_type": "stream",
     "text": [
      "0.294166108915\n",
      "0.207438512659\n",
      "0.247088676766\n",
      "0.251306709597\n"
     ]
    }
   ],
   "source": [
    "##Determining political party breakdown for tweets with #gunsense\n",
    "import indicoio\n",
    "\n",
    "indicoio.config.api_key = 'dff2e468122e118f7d78ea379d97bfe9'\n",
    "\n",
    "libertarian=[]\n",
    "liberal=[]\n",
    "green=[]\n",
    "conservative=[]\n",
    "\n",
    "for i in reloaded_gunsense_tweets:\n",
    "    dictionary=indicoio.political(i)\n",
    "    libertarian.append(dictionary[u'Libertarian'])\n",
    "    liberal.append(dictionary[u'Liberal'])\n",
    "    green.append(dictionary[u'Green'])\n",
    "    conservative.append(dictionary[u'Conservative'])\n",
    "    \n",
    "import numpy as np\n",
    "print np.mean(libertarian)\n",
    "print np.mean(liberal)\n",
    "print np.mean(green)\n",
    "print np.mean(conservative)"
   ]
  },
  {
   "cell_type": "code",
   "execution_count": 10,
   "metadata": {
    "collapsed": false
   },
   "outputs": [
    {
     "data": {
      "image/png": "[encoded data removed]",
      "text/plain": [
       "<matplotlib.figure.Figure at 0x7f65d9c69890>"
      ]
     },
     "metadata": {},
     "output_type": "display_data"
    }
   ],
   "source": [
    "##Determining sentiment analysis for tweets with #guncontrol\n",
    "from pattern.en import *\n",
    "\n",
    "sent=[]\n",
    "obj=[]\n",
    "\n",
    "for i in reloaded_guncontrol_tweets:\n",
    "    score=(sentiment(i))\n",
    "    sent.append(score[0])\n",
    "    obj.append(score[1])\n",
    "    \n",
    "import matplotlib.pyplot as plt\n",
    "plt.plot(obj,sent,'ro')\n",
    "plt.title('#Guncontrol Tweet Analysis')\n",
    "plt.xlabel('Objectivity')\n",
    "plt.ylabel('Sentiment')\n",
    "plt.axis([-0.1, 1.1, -1.1, 1.1])\n",
    "plt.show()"
   ]
  },
  {
   "cell_type": "code",
   "execution_count": 11,
   "metadata": {
    "collapsed": false
   },
   "outputs": [
    {
     "name": "stdout",
     "output_type": "stream",
     "text": [
      "('r-squared:', 0.043290248019426797)\n"
     ]
    }
   ],
   "source": [
    "import numpy as np\n",
    "x=np.array(obj)\n",
    "y=np.array(sent)\n",
    "\n",
    "from scipy import stats \n",
    "slope, intercept, r_value, p_value, std_err = stats.linregress(x,y)\n",
    "print(\"r-squared:\", r_value**2)"
   ]
  },
  {
   "cell_type": "code",
   "execution_count": 28,
   "metadata": {
    "collapsed": false
   },
   "outputs": [
    {
     "name": "stdout",
     "output_type": "stream",
     "text": [
      "-0.00940016196188\n",
      "0.240423370611\n"
     ]
    }
   ],
   "source": [
    "#Further analysis of #guncontrol tweets\n",
    "import numpy as np\n",
    "print np.mean(sent)\n",
    "print np.mean(obj)"
   ]
  },
  {
   "cell_type": "code",
   "execution_count": 6,
   "metadata": {
    "collapsed": false,
    "scrolled": true
   },
   "outputs": [
    {
     "data": {
      "image/png": "[encoded data removed]",
      "text/plain": [
       "<matplotlib.figure.Figure at 0x7f65f403c390>"
      ]
     },
     "metadata": {},
     "output_type": "display_data"
    }
   ],
   "source": [
    "##Determining sentiment analysis for tweets with #gunsense\n",
    "from pattern.en import *\n",
    "\n",
    "sent=[]\n",
    "obj=[]\n",
    "\n",
    "for i in reloaded_gunsense_tweets:\n",
    "    score=(sentiment(i))\n",
    "    sent.append(score[0])\n",
    "    obj.append(score[1])\n",
    "    \n",
    "import matplotlib.pyplot as plt\n",
    "plt.plot(obj,sent, 'ro')\n",
    "plt.title('#Gunsense Tweet Analysis')\n",
    "plt.xlabel('Objectivity')\n",
    "plt.ylabel('Sentiment')\n",
    "plt.axis([-0.1, 1.1, -1.1, 1.1])\n",
    "plt.show()"
   ]
  },
  {
   "cell_type": "code",
   "execution_count": 7,
   "metadata": {
    "collapsed": false
   },
   "outputs": [
    {
     "name": "stdout",
     "output_type": "stream",
     "text": [
      "('r-squared:', 0.035828845198499604)\n"
     ]
    }
   ],
   "source": [
    "import numpy as np\n",
    "x=np.array(obj)\n",
    "y=np.array(sent)\n",
    "\n",
    "from scipy import stats \n",
    "slope, intercept, r_value, p_value, std_err = stats.linregress(x,y)\n",
    "print(\"r-squared:\", r_value**2)"
   ]
  },
  {
   "cell_type": "code",
   "execution_count": 30,
   "metadata": {
    "collapsed": false
   },
   "outputs": [
    {
     "name": "stdout",
     "output_type": "stream",
     "text": [
      "0.0311403471764\n",
      "0.289087603232\n"
     ]
    }
   ],
   "source": [
    "#Further analysis for #Gunsense tweets\n",
    "import numpy as np\n",
    "print np.mean(sent)\n",
    "print np.mean(obj)"
   ]
  },
  {
   "cell_type": "code",
   "execution_count": null,
   "metadata": {
    "collapsed": true
   },
   "outputs": [],
   "source": [
    "#Run to view the raw data\n",
    "print reloaded_guncontrol_tweets\n",
    "print reloaded_gunsense_tweets"
   ]
  }
 ],
 "metadata": {
  "kernelspec": {
   "display_name": "Python 2",
   "language": "python",
   "name": "python2"
  },
  "language_info": {
   "codemirror_mode": {
    "name": "ipython",
    "version": 2
   },
   "file_extension": ".py",
   "mimetype": "text/x-python",
   "name": "python",
   "nbconvert_exporter": "python",
   "pygments_lexer": "ipython2",
   "version": "2.7.12"
  }
 },
 "nbformat": 4,
 "nbformat_minor": 1
}
